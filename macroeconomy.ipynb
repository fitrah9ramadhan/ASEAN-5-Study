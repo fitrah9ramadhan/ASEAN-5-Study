{
 "cells": [
  {
   "cell_type": "markdown",
   "id": "784a2087-66d1-4e93-8583-edd2faed697a",
   "metadata": {
    "tags": []
   },
   "source": [
    "###  Gross Domestic Product"
   ]
  },
  {
   "cell_type": "markdown",
   "id": "61e2a7b3-4062-4b6a-9a72-11dcd54b7f72",
   "metadata": {
    "tags": []
   },
   "source": [
    "#### Proses Data Cleaning GDP"
   ]
  },
  {
   "cell_type": "code",
   "execution_count": 35,
   "id": "19ef2e9f-846e-4b3b-8550-decf5c4b42c0",
   "metadata": {},
   "outputs": [],
   "source": [
    "import pandas as pd"
   ]
  },
  {
   "cell_type": "code",
   "execution_count": 2,
   "id": "dc86231b-086f-4e99-829b-9054a9676da0",
   "metadata": {},
   "outputs": [],
   "source": [
    "gdp_constant = pd.read_csv(\"data/world-bank/gdp-constant-US$2015.csv\", skiprows = 3)"
   ]
  },
  {
   "cell_type": "code",
   "execution_count": 3,
   "id": "d8dc1d5a-4ddb-409c-8129-0568108d3402",
   "metadata": {},
   "outputs": [
    {
     "data": {
      "text/html": [
       "<div>\n",
       "<style scoped>\n",
       "    .dataframe tbody tr th:only-of-type {\n",
       "        vertical-align: middle;\n",
       "    }\n",
       "\n",
       "    .dataframe tbody tr th {\n",
       "        vertical-align: top;\n",
       "    }\n",
       "\n",
       "    .dataframe thead th {\n",
       "        text-align: right;\n",
       "    }\n",
       "</style>\n",
       "<table border=\"1\" class=\"dataframe\">\n",
       "  <thead>\n",
       "    <tr style=\"text-align: right;\">\n",
       "      <th></th>\n",
       "      <th>Country Name</th>\n",
       "      <th>Country Code</th>\n",
       "      <th>Indicator Name</th>\n",
       "      <th>Indicator Code</th>\n",
       "      <th>1960</th>\n",
       "      <th>1961</th>\n",
       "      <th>1962</th>\n",
       "      <th>1963</th>\n",
       "      <th>1964</th>\n",
       "      <th>1965</th>\n",
       "      <th>...</th>\n",
       "      <th>2013</th>\n",
       "      <th>2014</th>\n",
       "      <th>2015</th>\n",
       "      <th>2016</th>\n",
       "      <th>2017</th>\n",
       "      <th>2018</th>\n",
       "      <th>2019</th>\n",
       "      <th>2020</th>\n",
       "      <th>2021</th>\n",
       "      <th>Unnamed: 66</th>\n",
       "    </tr>\n",
       "  </thead>\n",
       "  <tbody>\n",
       "    <tr>\n",
       "      <th>0</th>\n",
       "      <td>Aruba</td>\n",
       "      <td>ABW</td>\n",
       "      <td>GDP (constant 2015 US$)</td>\n",
       "      <td>NY.GDP.MKTP.KD</td>\n",
       "      <td>NaN</td>\n",
       "      <td>NaN</td>\n",
       "      <td>NaN</td>\n",
       "      <td>NaN</td>\n",
       "      <td>NaN</td>\n",
       "      <td>NaN</td>\n",
       "      <td>...</td>\n",
       "      <td>2.794743e+09</td>\n",
       "      <td>2.803127e+09</td>\n",
       "      <td>2.962905e+09</td>\n",
       "      <td>3.025126e+09</td>\n",
       "      <td>3.085629e+09</td>\n",
       "      <td>NaN</td>\n",
       "      <td>NaN</td>\n",
       "      <td>NaN</td>\n",
       "      <td>NaN</td>\n",
       "      <td>NaN</td>\n",
       "    </tr>\n",
       "    <tr>\n",
       "      <th>1</th>\n",
       "      <td>Africa Eastern and Southern</td>\n",
       "      <td>AFE</td>\n",
       "      <td>GDP (constant 2015 US$)</td>\n",
       "      <td>NY.GDP.MKTP.KD</td>\n",
       "      <td>NaN</td>\n",
       "      <td>NaN</td>\n",
       "      <td>NaN</td>\n",
       "      <td>NaN</td>\n",
       "      <td>NaN</td>\n",
       "      <td>NaN</td>\n",
       "      <td>...</td>\n",
       "      <td>8.595149e+11</td>\n",
       "      <td>8.937816e+11</td>\n",
       "      <td>9.199300e+11</td>\n",
       "      <td>9.385070e+11</td>\n",
       "      <td>9.623666e+11</td>\n",
       "      <td>9.861878e+11</td>\n",
       "      <td>1.006680e+12</td>\n",
       "      <td>9.770916e+11</td>\n",
       "      <td>NaN</td>\n",
       "      <td>NaN</td>\n",
       "    </tr>\n",
       "    <tr>\n",
       "      <th>2</th>\n",
       "      <td>Afghanistan</td>\n",
       "      <td>AFG</td>\n",
       "      <td>GDP (constant 2015 US$)</td>\n",
       "      <td>NY.GDP.MKTP.KD</td>\n",
       "      <td>NaN</td>\n",
       "      <td>NaN</td>\n",
       "      <td>NaN</td>\n",
       "      <td>NaN</td>\n",
       "      <td>NaN</td>\n",
       "      <td>NaN</td>\n",
       "      <td>...</td>\n",
       "      <td>1.836025e+10</td>\n",
       "      <td>1.886049e+10</td>\n",
       "      <td>1.913421e+10</td>\n",
       "      <td>1.956671e+10</td>\n",
       "      <td>2.008464e+10</td>\n",
       "      <td>2.032349e+10</td>\n",
       "      <td>2.111846e+10</td>\n",
       "      <td>2.062195e+10</td>\n",
       "      <td>NaN</td>\n",
       "      <td>NaN</td>\n",
       "    </tr>\n",
       "    <tr>\n",
       "      <th>3</th>\n",
       "      <td>Africa Western and Central</td>\n",
       "      <td>AFW</td>\n",
       "      <td>GDP (constant 2015 US$)</td>\n",
       "      <td>NY.GDP.MKTP.KD</td>\n",
       "      <td>1.048441e+11</td>\n",
       "      <td>1.067824e+11</td>\n",
       "      <td>1.108083e+11</td>\n",
       "      <td>1.188668e+11</td>\n",
       "      <td>1.252813e+11</td>\n",
       "      <td>1.303549e+11</td>\n",
       "      <td>...</td>\n",
       "      <td>6.989685e+11</td>\n",
       "      <td>7.403988e+11</td>\n",
       "      <td>7.607297e+11</td>\n",
       "      <td>7.617003e+11</td>\n",
       "      <td>7.793569e+11</td>\n",
       "      <td>8.023653e+11</td>\n",
       "      <td>8.279634e+11</td>\n",
       "      <td>8.206361e+11</td>\n",
       "      <td>NaN</td>\n",
       "      <td>NaN</td>\n",
       "    </tr>\n",
       "    <tr>\n",
       "      <th>4</th>\n",
       "      <td>Angola</td>\n",
       "      <td>AGO</td>\n",
       "      <td>GDP (constant 2015 US$)</td>\n",
       "      <td>NY.GDP.MKTP.KD</td>\n",
       "      <td>NaN</td>\n",
       "      <td>NaN</td>\n",
       "      <td>NaN</td>\n",
       "      <td>NaN</td>\n",
       "      <td>NaN</td>\n",
       "      <td>NaN</td>\n",
       "      <td>...</td>\n",
       "      <td>1.098117e+11</td>\n",
       "      <td>1.151075e+11</td>\n",
       "      <td>1.161936e+11</td>\n",
       "      <td>1.131958e+11</td>\n",
       "      <td>1.130292e+11</td>\n",
       "      <td>1.107645e+11</td>\n",
       "      <td>1.100726e+11</td>\n",
       "      <td>1.041287e+11</td>\n",
       "      <td>NaN</td>\n",
       "      <td>NaN</td>\n",
       "    </tr>\n",
       "  </tbody>\n",
       "</table>\n",
       "<p>5 rows × 67 columns</p>\n",
       "</div>"
      ],
      "text/plain": [
       "                  Country Name Country Code           Indicator Name  \\\n",
       "0                        Aruba          ABW  GDP (constant 2015 US$)   \n",
       "1  Africa Eastern and Southern          AFE  GDP (constant 2015 US$)   \n",
       "2                  Afghanistan          AFG  GDP (constant 2015 US$)   \n",
       "3   Africa Western and Central          AFW  GDP (constant 2015 US$)   \n",
       "4                       Angola          AGO  GDP (constant 2015 US$)   \n",
       "\n",
       "   Indicator Code          1960          1961          1962          1963  \\\n",
       "0  NY.GDP.MKTP.KD           NaN           NaN           NaN           NaN   \n",
       "1  NY.GDP.MKTP.KD           NaN           NaN           NaN           NaN   \n",
       "2  NY.GDP.MKTP.KD           NaN           NaN           NaN           NaN   \n",
       "3  NY.GDP.MKTP.KD  1.048441e+11  1.067824e+11  1.108083e+11  1.188668e+11   \n",
       "4  NY.GDP.MKTP.KD           NaN           NaN           NaN           NaN   \n",
       "\n",
       "           1964          1965  ...          2013          2014          2015  \\\n",
       "0           NaN           NaN  ...  2.794743e+09  2.803127e+09  2.962905e+09   \n",
       "1           NaN           NaN  ...  8.595149e+11  8.937816e+11  9.199300e+11   \n",
       "2           NaN           NaN  ...  1.836025e+10  1.886049e+10  1.913421e+10   \n",
       "3  1.252813e+11  1.303549e+11  ...  6.989685e+11  7.403988e+11  7.607297e+11   \n",
       "4           NaN           NaN  ...  1.098117e+11  1.151075e+11  1.161936e+11   \n",
       "\n",
       "           2016          2017          2018          2019          2020  2021  \\\n",
       "0  3.025126e+09  3.085629e+09           NaN           NaN           NaN   NaN   \n",
       "1  9.385070e+11  9.623666e+11  9.861878e+11  1.006680e+12  9.770916e+11   NaN   \n",
       "2  1.956671e+10  2.008464e+10  2.032349e+10  2.111846e+10  2.062195e+10   NaN   \n",
       "3  7.617003e+11  7.793569e+11  8.023653e+11  8.279634e+11  8.206361e+11   NaN   \n",
       "4  1.131958e+11  1.130292e+11  1.107645e+11  1.100726e+11  1.041287e+11   NaN   \n",
       "\n",
       "   Unnamed: 66  \n",
       "0          NaN  \n",
       "1          NaN  \n",
       "2          NaN  \n",
       "3          NaN  \n",
       "4          NaN  \n",
       "\n",
       "[5 rows x 67 columns]"
      ]
     },
     "execution_count": 3,
     "metadata": {},
     "output_type": "execute_result"
    }
   ],
   "source": [
    "gdp_constant.head()"
   ]
  },
  {
   "cell_type": "code",
   "execution_count": 4,
   "id": "a7fb4239-b88f-4306-a265-b74c90177739",
   "metadata": {},
   "outputs": [
    {
     "data": {
      "text/plain": [
       "Index(['Country Name', 'Country Code', 'Indicator Name', 'Indicator Code',\n",
       "       '1960', '1961', '1962', '1963', '1964', '1965', '1966', '1967', '1968',\n",
       "       '1969', '1970', '1971', '1972', '1973', '1974', '1975', '1976', '1977',\n",
       "       '1978', '1979', '1980', '1981', '1982', '1983', '1984', '1985', '1986',\n",
       "       '1987', '1988', '1989', '1990', '1991', '1992', '1993', '1994', '1995',\n",
       "       '1996', '1997', '1998', '1999', '2000', '2001', '2002', '2003', '2004',\n",
       "       '2005', '2006', '2007', '2008', '2009', '2010', '2011', '2012', '2013',\n",
       "       '2014', '2015', '2016', '2017', '2018', '2019', '2020', '2021',\n",
       "       'Unnamed: 66'],\n",
       "      dtype='object')"
      ]
     },
     "execution_count": 4,
     "metadata": {},
     "output_type": "execute_result"
    }
   ],
   "source": [
    "gdp_constant.columns"
   ]
  },
  {
   "cell_type": "code",
   "execution_count": 5,
   "id": "d8eb5048-74a6-40a0-b1c0-1db1ec419f12",
   "metadata": {},
   "outputs": [],
   "source": [
    "ASEAN_5 = [\"Indonesia\", \"Malaysia\", \"Singapore\", \"Thailand\",\"Philippines\"]"
   ]
  },
  {
   "cell_type": "code",
   "execution_count": 6,
   "id": "24ccfcd4-e9e5-4686-bef6-950fb80937e9",
   "metadata": {},
   "outputs": [],
   "source": [
    "gdp_constant_ASEAN5 = gdp_constant[gdp_constant[\"Country Name\"].isin(ASEAN_5)]"
   ]
  },
  {
   "cell_type": "code",
   "execution_count": 7,
   "id": "7140deb7-43a8-4e12-8891-1b214c824064",
   "metadata": {},
   "outputs": [
    {
     "data": {
      "text/html": [
       "<div>\n",
       "<style scoped>\n",
       "    .dataframe tbody tr th:only-of-type {\n",
       "        vertical-align: middle;\n",
       "    }\n",
       "\n",
       "    .dataframe tbody tr th {\n",
       "        vertical-align: top;\n",
       "    }\n",
       "\n",
       "    .dataframe thead th {\n",
       "        text-align: right;\n",
       "    }\n",
       "</style>\n",
       "<table border=\"1\" class=\"dataframe\">\n",
       "  <thead>\n",
       "    <tr style=\"text-align: right;\">\n",
       "      <th></th>\n",
       "      <th>Country Name</th>\n",
       "      <th>Country Code</th>\n",
       "      <th>Indicator Name</th>\n",
       "      <th>Indicator Code</th>\n",
       "      <th>1960</th>\n",
       "      <th>1961</th>\n",
       "      <th>1962</th>\n",
       "      <th>1963</th>\n",
       "      <th>1964</th>\n",
       "      <th>1965</th>\n",
       "      <th>...</th>\n",
       "      <th>2013</th>\n",
       "      <th>2014</th>\n",
       "      <th>2015</th>\n",
       "      <th>2016</th>\n",
       "      <th>2017</th>\n",
       "      <th>2018</th>\n",
       "      <th>2019</th>\n",
       "      <th>2020</th>\n",
       "      <th>2021</th>\n",
       "      <th>Unnamed: 66</th>\n",
       "    </tr>\n",
       "  </thead>\n",
       "  <tbody>\n",
       "    <tr>\n",
       "      <th>106</th>\n",
       "      <td>Indonesia</td>\n",
       "      <td>IDN</td>\n",
       "      <td>GDP (constant 2015 US$)</td>\n",
       "      <td>NY.GDP.MKTP.KD</td>\n",
       "      <td>5.277761e+10</td>\n",
       "      <td>5.580738e+10</td>\n",
       "      <td>5.683534e+10</td>\n",
       "      <td>5.556392e+10</td>\n",
       "      <td>5.752516e+10</td>\n",
       "      <td>5.814734e+10</td>\n",
       "      <td>...</td>\n",
       "      <td>7.816913e+11</td>\n",
       "      <td>8.208280e+11</td>\n",
       "      <td>8.608542e+11</td>\n",
       "      <td>9.041816e+11</td>\n",
       "      <td>9.500217e+11</td>\n",
       "      <td>9.991786e+11</td>\n",
       "      <td>1.049319e+12</td>\n",
       "      <td>1.027603e+12</td>\n",
       "      <td>NaN</td>\n",
       "      <td>NaN</td>\n",
       "    </tr>\n",
       "    <tr>\n",
       "      <th>169</th>\n",
       "      <td>Malaysia</td>\n",
       "      <td>MYS</td>\n",
       "      <td>GDP (constant 2015 US$)</td>\n",
       "      <td>NY.GDP.MKTP.KD</td>\n",
       "      <td>1.007504e+10</td>\n",
       "      <td>1.084054e+10</td>\n",
       "      <td>1.153661e+10</td>\n",
       "      <td>1.238326e+10</td>\n",
       "      <td>1.304688e+10</td>\n",
       "      <td>1.404951e+10</td>\n",
       "      <td>...</td>\n",
       "      <td>2.705061e+11</td>\n",
       "      <td>2.867546e+11</td>\n",
       "      <td>3.013548e+11</td>\n",
       "      <td>3.147644e+11</td>\n",
       "      <td>3.330608e+11</td>\n",
       "      <td>3.491911e+11</td>\n",
       "      <td>3.646934e+11</td>\n",
       "      <td>3.440993e+11</td>\n",
       "      <td>NaN</td>\n",
       "      <td>NaN</td>\n",
       "    </tr>\n",
       "    <tr>\n",
       "      <th>187</th>\n",
       "      <td>Philippines</td>\n",
       "      <td>PHL</td>\n",
       "      <td>GDP (constant 2015 US$)</td>\n",
       "      <td>NY.GDP.MKTP.KD</td>\n",
       "      <td>3.134444e+10</td>\n",
       "      <td>3.312966e+10</td>\n",
       "      <td>3.473522e+10</td>\n",
       "      <td>3.717233e+10</td>\n",
       "      <td>3.843712e+10</td>\n",
       "      <td>4.049162e+10</td>\n",
       "      <td>...</td>\n",
       "      <td>2.709532e+11</td>\n",
       "      <td>2.881533e+11</td>\n",
       "      <td>3.064461e+11</td>\n",
       "      <td>3.283554e+11</td>\n",
       "      <td>3.511136e+11</td>\n",
       "      <td>3.733795e+11</td>\n",
       "      <td>3.962248e+11</td>\n",
       "      <td>3.582941e+11</td>\n",
       "      <td>NaN</td>\n",
       "      <td>NaN</td>\n",
       "    </tr>\n",
       "    <tr>\n",
       "      <th>208</th>\n",
       "      <td>Singapore</td>\n",
       "      <td>SGP</td>\n",
       "      <td>GDP (constant 2015 US$)</td>\n",
       "      <td>NY.GDP.MKTP.KD</td>\n",
       "      <td>5.942828e+09</td>\n",
       "      <td>6.426389e+09</td>\n",
       "      <td>6.911842e+09</td>\n",
       "      <td>7.605834e+09</td>\n",
       "      <td>7.369799e+09</td>\n",
       "      <td>7.947192e+09</td>\n",
       "      <td>...</td>\n",
       "      <td>2.877355e+11</td>\n",
       "      <td>2.990665e+11</td>\n",
       "      <td>3.080041e+11</td>\n",
       "      <td>3.182577e+11</td>\n",
       "      <td>3.326442e+11</td>\n",
       "      <td>3.442783e+11</td>\n",
       "      <td>3.489096e+11</td>\n",
       "      <td>3.300998e+11</td>\n",
       "      <td>NaN</td>\n",
       "      <td>NaN</td>\n",
       "    </tr>\n",
       "    <tr>\n",
       "      <th>233</th>\n",
       "      <td>Thailand</td>\n",
       "      <td>THA</td>\n",
       "      <td>GDP (constant 2015 US$)</td>\n",
       "      <td>NY.GDP.MKTP.KD</td>\n",
       "      <td>1.590875e+10</td>\n",
       "      <td>1.676180e+10</td>\n",
       "      <td>1.802802e+10</td>\n",
       "      <td>1.947024e+10</td>\n",
       "      <td>2.080025e+10</td>\n",
       "      <td>2.250205e+10</td>\n",
       "      <td>...</td>\n",
       "      <td>3.853086e+11</td>\n",
       "      <td>3.891018e+11</td>\n",
       "      <td>4.012964e+11</td>\n",
       "      <td>4.150816e+11</td>\n",
       "      <td>4.324224e+11</td>\n",
       "      <td>4.505391e+11</td>\n",
       "      <td>4.607503e+11</td>\n",
       "      <td>4.326492e+11</td>\n",
       "      <td>NaN</td>\n",
       "      <td>NaN</td>\n",
       "    </tr>\n",
       "  </tbody>\n",
       "</table>\n",
       "<p>5 rows × 67 columns</p>\n",
       "</div>"
      ],
      "text/plain": [
       "    Country Name Country Code           Indicator Name  Indicator Code  \\\n",
       "106    Indonesia          IDN  GDP (constant 2015 US$)  NY.GDP.MKTP.KD   \n",
       "169     Malaysia          MYS  GDP (constant 2015 US$)  NY.GDP.MKTP.KD   \n",
       "187  Philippines          PHL  GDP (constant 2015 US$)  NY.GDP.MKTP.KD   \n",
       "208    Singapore          SGP  GDP (constant 2015 US$)  NY.GDP.MKTP.KD   \n",
       "233     Thailand          THA  GDP (constant 2015 US$)  NY.GDP.MKTP.KD   \n",
       "\n",
       "             1960          1961          1962          1963          1964  \\\n",
       "106  5.277761e+10  5.580738e+10  5.683534e+10  5.556392e+10  5.752516e+10   \n",
       "169  1.007504e+10  1.084054e+10  1.153661e+10  1.238326e+10  1.304688e+10   \n",
       "187  3.134444e+10  3.312966e+10  3.473522e+10  3.717233e+10  3.843712e+10   \n",
       "208  5.942828e+09  6.426389e+09  6.911842e+09  7.605834e+09  7.369799e+09   \n",
       "233  1.590875e+10  1.676180e+10  1.802802e+10  1.947024e+10  2.080025e+10   \n",
       "\n",
       "             1965  ...          2013          2014          2015  \\\n",
       "106  5.814734e+10  ...  7.816913e+11  8.208280e+11  8.608542e+11   \n",
       "169  1.404951e+10  ...  2.705061e+11  2.867546e+11  3.013548e+11   \n",
       "187  4.049162e+10  ...  2.709532e+11  2.881533e+11  3.064461e+11   \n",
       "208  7.947192e+09  ...  2.877355e+11  2.990665e+11  3.080041e+11   \n",
       "233  2.250205e+10  ...  3.853086e+11  3.891018e+11  4.012964e+11   \n",
       "\n",
       "             2016          2017          2018          2019          2020  \\\n",
       "106  9.041816e+11  9.500217e+11  9.991786e+11  1.049319e+12  1.027603e+12   \n",
       "169  3.147644e+11  3.330608e+11  3.491911e+11  3.646934e+11  3.440993e+11   \n",
       "187  3.283554e+11  3.511136e+11  3.733795e+11  3.962248e+11  3.582941e+11   \n",
       "208  3.182577e+11  3.326442e+11  3.442783e+11  3.489096e+11  3.300998e+11   \n",
       "233  4.150816e+11  4.324224e+11  4.505391e+11  4.607503e+11  4.326492e+11   \n",
       "\n",
       "     2021  Unnamed: 66  \n",
       "106   NaN          NaN  \n",
       "169   NaN          NaN  \n",
       "187   NaN          NaN  \n",
       "208   NaN          NaN  \n",
       "233   NaN          NaN  \n",
       "\n",
       "[5 rows x 67 columns]"
      ]
     },
     "execution_count": 7,
     "metadata": {},
     "output_type": "execute_result"
    }
   ],
   "source": [
    "gdp_constant_ASEAN5.head()"
   ]
  },
  {
   "cell_type": "code",
   "execution_count": 8,
   "id": "b813980a-2334-42d9-b0b3-21b4689f4a4b",
   "metadata": {},
   "outputs": [],
   "source": [
    "gdp_constant_ASEAN5_transposed = gdp_constant_ASEAN5.transpose()"
   ]
  },
  {
   "cell_type": "code",
   "execution_count": 9,
   "id": "72b027e3-12a7-419f-a597-ed36776e2129",
   "metadata": {},
   "outputs": [
    {
     "data": {
      "text/plain": [
       "106      Indonesia\n",
       "169       Malaysia\n",
       "187    Philippines\n",
       "208      Singapore\n",
       "233       Thailand\n",
       "Name: Country Name, dtype: object"
      ]
     },
     "execution_count": 9,
     "metadata": {},
     "output_type": "execute_result"
    }
   ],
   "source": [
    "new_header = gdp_constant_ASEAN5_transposed.iloc[0]\n",
    "new_header"
   ]
  },
  {
   "cell_type": "code",
   "execution_count": 10,
   "id": "47967ad0-7a64-4dae-9f58-36578839a763",
   "metadata": {},
   "outputs": [],
   "source": [
    "gdp_constant_ASEAN5_transposed = gdp_constant_ASEAN5_transposed.iloc[4:]\n",
    "gdp_constant_ASEAN5_transposed.columns = new_header"
   ]
  },
  {
   "cell_type": "code",
   "execution_count": 11,
   "id": "163e22d4-e6b4-420d-a2db-f99be10d1a02",
   "metadata": {},
   "outputs": [],
   "source": [
    "gdp_constant_ASEAN5_transposed = gdp_constant_ASEAN5_transposed.reset_index()"
   ]
  },
  {
   "cell_type": "code",
   "execution_count": 12,
   "id": "03953bcb-ee32-4273-bde4-1dec65efab58",
   "metadata": {},
   "outputs": [
    {
     "data": {
      "text/html": [
       "<div>\n",
       "<style scoped>\n",
       "    .dataframe tbody tr th:only-of-type {\n",
       "        vertical-align: middle;\n",
       "    }\n",
       "\n",
       "    .dataframe tbody tr th {\n",
       "        vertical-align: top;\n",
       "    }\n",
       "\n",
       "    .dataframe thead th {\n",
       "        text-align: right;\n",
       "    }\n",
       "</style>\n",
       "<table border=\"1\" class=\"dataframe\">\n",
       "  <thead>\n",
       "    <tr style=\"text-align: right;\">\n",
       "      <th>Country Name</th>\n",
       "      <th>index</th>\n",
       "      <th>Indonesia</th>\n",
       "      <th>Malaysia</th>\n",
       "      <th>Philippines</th>\n",
       "      <th>Singapore</th>\n",
       "      <th>Thailand</th>\n",
       "    </tr>\n",
       "  </thead>\n",
       "  <tbody>\n",
       "    <tr>\n",
       "      <th>0</th>\n",
       "      <td>1960</td>\n",
       "      <td>52777607990.660896</td>\n",
       "      <td>10075038171.6525</td>\n",
       "      <td>31344442131.362701</td>\n",
       "      <td>5942828047.71603</td>\n",
       "      <td>15908745237.0732</td>\n",
       "    </tr>\n",
       "    <tr>\n",
       "      <th>1</th>\n",
       "      <td>1961</td>\n",
       "      <td>55807383539.080902</td>\n",
       "      <td>10840538967.3442</td>\n",
       "      <td>33129655728.250401</td>\n",
       "      <td>6426389292.98807</td>\n",
       "      <td>16761795431.447901</td>\n",
       "    </tr>\n",
       "    <tr>\n",
       "      <th>2</th>\n",
       "      <td>1962</td>\n",
       "      <td>56835343100.146004</td>\n",
       "      <td>11536613184.245701</td>\n",
       "      <td>34735216308.374001</td>\n",
       "      <td>6911841722.43236</td>\n",
       "      <td>18028024108.366001</td>\n",
       "    </tr>\n",
       "    <tr>\n",
       "      <th>3</th>\n",
       "      <td>1963</td>\n",
       "      <td>55563919432.510803</td>\n",
       "      <td>12383262559.498501</td>\n",
       "      <td>37172331196.979797</td>\n",
       "      <td>7605833575.79285</td>\n",
       "      <td>19470235531.272701</td>\n",
       "    </tr>\n",
       "    <tr>\n",
       "      <th>4</th>\n",
       "      <td>1964</td>\n",
       "      <td>57525158068.753197</td>\n",
       "      <td>13046877007.034901</td>\n",
       "      <td>38437117698.5784</td>\n",
       "      <td>7369799243.52633</td>\n",
       "      <td>20800246569.584301</td>\n",
       "    </tr>\n",
       "  </tbody>\n",
       "</table>\n",
       "</div>"
      ],
      "text/plain": [
       "Country Name index           Indonesia            Malaysia  \\\n",
       "0             1960  52777607990.660896    10075038171.6525   \n",
       "1             1961  55807383539.080902    10840538967.3442   \n",
       "2             1962  56835343100.146004  11536613184.245701   \n",
       "3             1963  55563919432.510803  12383262559.498501   \n",
       "4             1964  57525158068.753197  13046877007.034901   \n",
       "\n",
       "Country Name         Philippines         Singapore            Thailand  \n",
       "0             31344442131.362701  5942828047.71603    15908745237.0732  \n",
       "1             33129655728.250401  6426389292.98807  16761795431.447901  \n",
       "2             34735216308.374001  6911841722.43236  18028024108.366001  \n",
       "3             37172331196.979797  7605833575.79285  19470235531.272701  \n",
       "4               38437117698.5784  7369799243.52633  20800246569.584301  "
      ]
     },
     "execution_count": 12,
     "metadata": {},
     "output_type": "execute_result"
    }
   ],
   "source": [
    "gdp_constant_ASEAN5_transposed.head()"
   ]
  },
  {
   "cell_type": "code",
   "execution_count": 13,
   "id": "597f820a-08aa-4863-b0d9-6e5310c1100d",
   "metadata": {},
   "outputs": [],
   "source": [
    "final_data = gdp_constant_ASEAN5_transposed.rename(columns = {\"index\":\"year\"}).set_index('year')"
   ]
  },
  {
   "cell_type": "code",
   "execution_count": 14,
   "id": "e68b877b-fd65-41dc-8264-c966bc18252a",
   "metadata": {},
   "outputs": [
    {
     "name": "stdout",
     "output_type": "stream",
     "text": [
      "<class 'pandas.core.frame.DataFrame'>\n",
      "Index: 63 entries, 1960 to Unnamed: 66\n",
      "Data columns (total 5 columns):\n",
      " #   Column       Non-Null Count  Dtype \n",
      "---  ------       --------------  ----- \n",
      " 0   Indonesia    61 non-null     object\n",
      " 1   Malaysia     61 non-null     object\n",
      " 2   Philippines  61 non-null     object\n",
      " 3   Singapore    61 non-null     object\n",
      " 4   Thailand     61 non-null     object\n",
      "dtypes: object(5)\n",
      "memory usage: 3.0+ KB\n"
     ]
    }
   ],
   "source": [
    "final_data.info()"
   ]
  },
  {
   "cell_type": "code",
   "execution_count": 15,
   "id": "2fcc1bbe-e5aa-4252-907b-116f5ce06b36",
   "metadata": {},
   "outputs": [
    {
     "data": {
      "text/html": [
       "<div>\n",
       "<style scoped>\n",
       "    .dataframe tbody tr th:only-of-type {\n",
       "        vertical-align: middle;\n",
       "    }\n",
       "\n",
       "    .dataframe tbody tr th {\n",
       "        vertical-align: top;\n",
       "    }\n",
       "\n",
       "    .dataframe thead th {\n",
       "        text-align: right;\n",
       "    }\n",
       "</style>\n",
       "<table border=\"1\" class=\"dataframe\">\n",
       "  <thead>\n",
       "    <tr style=\"text-align: right;\">\n",
       "      <th>Country Name</th>\n",
       "      <th>Indonesia</th>\n",
       "      <th>Malaysia</th>\n",
       "      <th>Philippines</th>\n",
       "      <th>Singapore</th>\n",
       "      <th>Thailand</th>\n",
       "    </tr>\n",
       "    <tr>\n",
       "      <th>year</th>\n",
       "      <th></th>\n",
       "      <th></th>\n",
       "      <th></th>\n",
       "      <th></th>\n",
       "      <th></th>\n",
       "    </tr>\n",
       "  </thead>\n",
       "  <tbody>\n",
       "    <tr>\n",
       "      <th>2018</th>\n",
       "      <td>999178589070.128052</td>\n",
       "      <td>349191140699.013977</td>\n",
       "      <td>373379468918.565002</td>\n",
       "      <td>344278295024.731018</td>\n",
       "      <td>450539094020.301025</td>\n",
       "    </tr>\n",
       "    <tr>\n",
       "      <th>2019</th>\n",
       "      <td>1049318966508.579956</td>\n",
       "      <td>364693381129.177002</td>\n",
       "      <td>396224787543.086975</td>\n",
       "      <td>348909586848.995972</td>\n",
       "      <td>460750263751.601013</td>\n",
       "    </tr>\n",
       "    <tr>\n",
       "      <th>2020</th>\n",
       "      <td>1027602854052.75</td>\n",
       "      <td>344099347074.638</td>\n",
       "      <td>358294070260.97699</td>\n",
       "      <td>330099796334.012024</td>\n",
       "      <td>432649179610.325989</td>\n",
       "    </tr>\n",
       "    <tr>\n",
       "      <th>2021</th>\n",
       "      <td>NaN</td>\n",
       "      <td>NaN</td>\n",
       "      <td>NaN</td>\n",
       "      <td>NaN</td>\n",
       "      <td>NaN</td>\n",
       "    </tr>\n",
       "    <tr>\n",
       "      <th>Unnamed: 66</th>\n",
       "      <td>NaN</td>\n",
       "      <td>NaN</td>\n",
       "      <td>NaN</td>\n",
       "      <td>NaN</td>\n",
       "      <td>NaN</td>\n",
       "    </tr>\n",
       "  </tbody>\n",
       "</table>\n",
       "</div>"
      ],
      "text/plain": [
       "Country Name             Indonesia             Malaysia          Philippines  \\\n",
       "year                                                                           \n",
       "2018           999178589070.128052  349191140699.013977  373379468918.565002   \n",
       "2019          1049318966508.579956  364693381129.177002  396224787543.086975   \n",
       "2020              1027602854052.75     344099347074.638   358294070260.97699   \n",
       "2021                           NaN                  NaN                  NaN   \n",
       "Unnamed: 66                    NaN                  NaN                  NaN   \n",
       "\n",
       "Country Name            Singapore             Thailand  \n",
       "year                                                    \n",
       "2018          344278295024.731018  450539094020.301025  \n",
       "2019          348909586848.995972  460750263751.601013  \n",
       "2020          330099796334.012024  432649179610.325989  \n",
       "2021                          NaN                  NaN  \n",
       "Unnamed: 66                   NaN                  NaN  "
      ]
     },
     "execution_count": 15,
     "metadata": {},
     "output_type": "execute_result"
    }
   ],
   "source": [
    "final_data.tail()"
   ]
  },
  {
   "cell_type": "code",
   "execution_count": 16,
   "id": "dfb059eb-77bb-46ba-9df5-a3df2dbebbbe",
   "metadata": {},
   "outputs": [],
   "source": [
    "final_data = final_data.dropna()"
   ]
  },
  {
   "cell_type": "code",
   "execution_count": 17,
   "id": "fa13cc7f-3691-4f77-894e-ab623bfdef0a",
   "metadata": {},
   "outputs": [
    {
     "data": {
      "text/html": [
       "<div>\n",
       "<style scoped>\n",
       "    .dataframe tbody tr th:only-of-type {\n",
       "        vertical-align: middle;\n",
       "    }\n",
       "\n",
       "    .dataframe tbody tr th {\n",
       "        vertical-align: top;\n",
       "    }\n",
       "\n",
       "    .dataframe thead th {\n",
       "        text-align: right;\n",
       "    }\n",
       "</style>\n",
       "<table border=\"1\" class=\"dataframe\">\n",
       "  <thead>\n",
       "    <tr style=\"text-align: right;\">\n",
       "      <th>Country Name</th>\n",
       "      <th>Indonesia</th>\n",
       "      <th>Malaysia</th>\n",
       "      <th>Philippines</th>\n",
       "      <th>Singapore</th>\n",
       "      <th>Thailand</th>\n",
       "    </tr>\n",
       "    <tr>\n",
       "      <th>year</th>\n",
       "      <th></th>\n",
       "      <th></th>\n",
       "      <th></th>\n",
       "      <th></th>\n",
       "      <th></th>\n",
       "    </tr>\n",
       "  </thead>\n",
       "  <tbody>\n",
       "    <tr>\n",
       "      <th>1960</th>\n",
       "      <td>52777607990.660896</td>\n",
       "      <td>10075038171.6525</td>\n",
       "      <td>31344442131.362701</td>\n",
       "      <td>5942828047.71603</td>\n",
       "      <td>15908745237.0732</td>\n",
       "    </tr>\n",
       "    <tr>\n",
       "      <th>1961</th>\n",
       "      <td>55807383539.080902</td>\n",
       "      <td>10840538967.3442</td>\n",
       "      <td>33129655728.250401</td>\n",
       "      <td>6426389292.98807</td>\n",
       "      <td>16761795431.447901</td>\n",
       "    </tr>\n",
       "    <tr>\n",
       "      <th>1962</th>\n",
       "      <td>56835343100.146004</td>\n",
       "      <td>11536613184.245701</td>\n",
       "      <td>34735216308.374001</td>\n",
       "      <td>6911841722.43236</td>\n",
       "      <td>18028024108.366001</td>\n",
       "    </tr>\n",
       "    <tr>\n",
       "      <th>1963</th>\n",
       "      <td>55563919432.510803</td>\n",
       "      <td>12383262559.498501</td>\n",
       "      <td>37172331196.979797</td>\n",
       "      <td>7605833575.79285</td>\n",
       "      <td>19470235531.272701</td>\n",
       "    </tr>\n",
       "    <tr>\n",
       "      <th>1964</th>\n",
       "      <td>57525158068.753197</td>\n",
       "      <td>13046877007.034901</td>\n",
       "      <td>38437117698.5784</td>\n",
       "      <td>7369799243.52633</td>\n",
       "      <td>20800246569.584301</td>\n",
       "    </tr>\n",
       "  </tbody>\n",
       "</table>\n",
       "</div>"
      ],
      "text/plain": [
       "Country Name           Indonesia            Malaysia         Philippines  \\\n",
       "year                                                                       \n",
       "1960          52777607990.660896    10075038171.6525  31344442131.362701   \n",
       "1961          55807383539.080902    10840538967.3442  33129655728.250401   \n",
       "1962          56835343100.146004  11536613184.245701  34735216308.374001   \n",
       "1963          55563919432.510803  12383262559.498501  37172331196.979797   \n",
       "1964          57525158068.753197  13046877007.034901    38437117698.5784   \n",
       "\n",
       "Country Name         Singapore            Thailand  \n",
       "year                                                \n",
       "1960          5942828047.71603    15908745237.0732  \n",
       "1961          6426389292.98807  16761795431.447901  \n",
       "1962          6911841722.43236  18028024108.366001  \n",
       "1963          7605833575.79285  19470235531.272701  \n",
       "1964          7369799243.52633  20800246569.584301  "
      ]
     },
     "execution_count": 17,
     "metadata": {},
     "output_type": "execute_result"
    }
   ],
   "source": [
    "final_data.head()"
   ]
  },
  {
   "cell_type": "code",
   "execution_count": 18,
   "id": "294e96d6-6f1a-4135-a8ff-19e114abd3ca",
   "metadata": {},
   "outputs": [],
   "source": [
    "final_data.to_csv(\"cleaned-data/constant-gdp-2015US$.csv\")"
   ]
  },
  {
   "cell_type": "code",
   "execution_count": 19,
   "id": "81c558aa-2d13-4a88-9e63-778b6c26add0",
   "metadata": {},
   "outputs": [],
   "source": [
    "# membuat function\n",
    "\n",
    "def filter_wbdata(data, country_list):\n",
    "    \n",
    "    '''\n",
    "        # data        : world bank data (data frame)\n",
    "        # country_list: list of countries\n",
    "            e.g countries = [\"France\", \"Japan\", \"Germany\"]\n",
    "    '''\n",
    "    \n",
    "    data.drop(columns = [\"Country Code\", \"Indicator Code\", \"Indicator Name\"], inplace = True)\n",
    "    data = data[data[\"Country Name\"].isin(country_list)]\n",
    "    data = data.transpose()\n",
    "    new_header = data.iloc[0]\n",
    "    data = data[1:] \n",
    "    data.columns = new_header\n",
    "\n",
    "    return data"
   ]
  },
  {
   "cell_type": "markdown",
   "id": "9571e0e8-ba8d-47f0-bc02-8db4ac04cf79",
   "metadata": {},
   "source": [
    "## Exploratory Data Analysis"
   ]
  },
  {
   "cell_type": "code",
   "execution_count": 36,
   "id": "1a920f07-7e0e-435d-b17a-f34595a450bf",
   "metadata": {},
   "outputs": [],
   "source": [
    "import pandas as pd\n",
    "import numpy as np\n",
    "import matplotlib.pyplot as plt\n",
    "import seaborn as sns\n",
    "\n",
    "plt.style.use('seaborn-bright')"
   ]
  },
  {
   "cell_type": "code",
   "execution_count": 37,
   "id": "be6fe23d-45c2-41e5-a55d-7d2e1226258f",
   "metadata": {},
   "outputs": [],
   "source": [
    "gdp = pd.read_csv(\"cleaned-data/constant-gdp-2015US$.csv\")"
   ]
  },
  {
   "cell_type": "code",
   "execution_count": 38,
   "id": "9df1a7aa-2321-4196-894a-0714bfc1e659",
   "metadata": {},
   "outputs": [
    {
     "data": {
      "text/html": [
       "<div>\n",
       "<style scoped>\n",
       "    .dataframe tbody tr th:only-of-type {\n",
       "        vertical-align: middle;\n",
       "    }\n",
       "\n",
       "    .dataframe tbody tr th {\n",
       "        vertical-align: top;\n",
       "    }\n",
       "\n",
       "    .dataframe thead th {\n",
       "        text-align: right;\n",
       "    }\n",
       "</style>\n",
       "<table border=\"1\" class=\"dataframe\">\n",
       "  <thead>\n",
       "    <tr style=\"text-align: right;\">\n",
       "      <th></th>\n",
       "      <th>year</th>\n",
       "      <th>Indonesia</th>\n",
       "      <th>Malaysia</th>\n",
       "      <th>Philippines</th>\n",
       "      <th>Singapore</th>\n",
       "      <th>Thailand</th>\n",
       "    </tr>\n",
       "  </thead>\n",
       "  <tbody>\n",
       "    <tr>\n",
       "      <th>0</th>\n",
       "      <td>1960</td>\n",
       "      <td>5.277761e+10</td>\n",
       "      <td>1.007504e+10</td>\n",
       "      <td>3.134444e+10</td>\n",
       "      <td>5.942828e+09</td>\n",
       "      <td>1.590875e+10</td>\n",
       "    </tr>\n",
       "    <tr>\n",
       "      <th>1</th>\n",
       "      <td>1961</td>\n",
       "      <td>5.580738e+10</td>\n",
       "      <td>1.084054e+10</td>\n",
       "      <td>3.312966e+10</td>\n",
       "      <td>6.426389e+09</td>\n",
       "      <td>1.676180e+10</td>\n",
       "    </tr>\n",
       "    <tr>\n",
       "      <th>2</th>\n",
       "      <td>1962</td>\n",
       "      <td>5.683534e+10</td>\n",
       "      <td>1.153661e+10</td>\n",
       "      <td>3.473522e+10</td>\n",
       "      <td>6.911842e+09</td>\n",
       "      <td>1.802802e+10</td>\n",
       "    </tr>\n",
       "    <tr>\n",
       "      <th>3</th>\n",
       "      <td>1963</td>\n",
       "      <td>5.556392e+10</td>\n",
       "      <td>1.238326e+10</td>\n",
       "      <td>3.717233e+10</td>\n",
       "      <td>7.605834e+09</td>\n",
       "      <td>1.947024e+10</td>\n",
       "    </tr>\n",
       "    <tr>\n",
       "      <th>4</th>\n",
       "      <td>1964</td>\n",
       "      <td>5.752516e+10</td>\n",
       "      <td>1.304688e+10</td>\n",
       "      <td>3.843712e+10</td>\n",
       "      <td>7.369799e+09</td>\n",
       "      <td>2.080025e+10</td>\n",
       "    </tr>\n",
       "  </tbody>\n",
       "</table>\n",
       "</div>"
      ],
      "text/plain": [
       "   year     Indonesia      Malaysia   Philippines     Singapore      Thailand\n",
       "0  1960  5.277761e+10  1.007504e+10  3.134444e+10  5.942828e+09  1.590875e+10\n",
       "1  1961  5.580738e+10  1.084054e+10  3.312966e+10  6.426389e+09  1.676180e+10\n",
       "2  1962  5.683534e+10  1.153661e+10  3.473522e+10  6.911842e+09  1.802802e+10\n",
       "3  1963  5.556392e+10  1.238326e+10  3.717233e+10  7.605834e+09  1.947024e+10\n",
       "4  1964  5.752516e+10  1.304688e+10  3.843712e+10  7.369799e+09  2.080025e+10"
      ]
     },
     "execution_count": 38,
     "metadata": {},
     "output_type": "execute_result"
    }
   ],
   "source": [
    "gdp.head()"
   ]
  },
  {
   "cell_type": "code",
   "execution_count": 39,
   "id": "96e83360-b008-43fd-85b2-edcd8c9c6b42",
   "metadata": {},
   "outputs": [],
   "source": [
    "gdp = gdp.set_index(\"year\")"
   ]
  },
  {
   "cell_type": "markdown",
   "id": "ff1b3dde-f8a8-4634-b2d2-4722ff6f3342",
   "metadata": {},
   "source": [
    "GDP konstan dalam Miliar 2015US$"
   ]
  },
  {
   "cell_type": "code",
   "execution_count": 40,
   "id": "b4950d74-9e86-4f3a-a53e-b18acf56279e",
   "metadata": {},
   "outputs": [],
   "source": [
    "gdp_billion = gdp/1000000000"
   ]
  },
  {
   "cell_type": "code",
   "execution_count": 41,
   "id": "a561adba-e02c-4422-bd66-3d614d311b3e",
   "metadata": {},
   "outputs": [
    {
     "data": {
      "text/html": [
       "<div>\n",
       "<style scoped>\n",
       "    .dataframe tbody tr th:only-of-type {\n",
       "        vertical-align: middle;\n",
       "    }\n",
       "\n",
       "    .dataframe tbody tr th {\n",
       "        vertical-align: top;\n",
       "    }\n",
       "\n",
       "    .dataframe thead th {\n",
       "        text-align: right;\n",
       "    }\n",
       "</style>\n",
       "<table border=\"1\" class=\"dataframe\">\n",
       "  <thead>\n",
       "    <tr style=\"text-align: right;\">\n",
       "      <th></th>\n",
       "      <th>Indonesia</th>\n",
       "      <th>Malaysia</th>\n",
       "      <th>Philippines</th>\n",
       "      <th>Singapore</th>\n",
       "      <th>Thailand</th>\n",
       "    </tr>\n",
       "  </thead>\n",
       "  <tbody>\n",
       "    <tr>\n",
       "      <th>count</th>\n",
       "      <td>61.000000</td>\n",
       "      <td>61.000000</td>\n",
       "      <td>61.000000</td>\n",
       "      <td>61.000000</td>\n",
       "      <td>61.000000</td>\n",
       "    </tr>\n",
       "    <tr>\n",
       "      <th>mean</th>\n",
       "      <td>354.395324</td>\n",
       "      <td>117.739035</td>\n",
       "      <td>136.910631</td>\n",
       "      <td>113.142477</td>\n",
       "      <td>176.378182</td>\n",
       "    </tr>\n",
       "    <tr>\n",
       "      <th>std</th>\n",
       "      <td>289.575343</td>\n",
       "      <td>105.763931</td>\n",
       "      <td>95.485567</td>\n",
       "      <td>108.471487</td>\n",
       "      <td>140.975669</td>\n",
       "    </tr>\n",
       "    <tr>\n",
       "      <th>min</th>\n",
       "      <td>52.777608</td>\n",
       "      <td>10.075038</td>\n",
       "      <td>31.344442</td>\n",
       "      <td>5.942828</td>\n",
       "      <td>15.908745</td>\n",
       "    </tr>\n",
       "    <tr>\n",
       "      <th>25%</th>\n",
       "      <td>108.051164</td>\n",
       "      <td>27.721992</td>\n",
       "      <td>66.866840</td>\n",
       "      <td>22.551426</td>\n",
       "      <td>46.091900</td>\n",
       "    </tr>\n",
       "    <tr>\n",
       "      <th>50%</th>\n",
       "      <td>269.915110</td>\n",
       "      <td>74.627439</td>\n",
       "      <td>106.641788</td>\n",
       "      <td>70.864053</td>\n",
       "      <td>144.045063</td>\n",
       "    </tr>\n",
       "    <tr>\n",
       "      <th>75%</th>\n",
       "      <td>497.631792</td>\n",
       "      <td>186.898482</td>\n",
       "      <td>179.365920</td>\n",
       "      <td>177.993672</td>\n",
       "      <td>288.645290</td>\n",
       "    </tr>\n",
       "    <tr>\n",
       "      <th>max</th>\n",
       "      <td>1049.318967</td>\n",
       "      <td>364.693381</td>\n",
       "      <td>396.224788</td>\n",
       "      <td>348.909587</td>\n",
       "      <td>460.750264</td>\n",
       "    </tr>\n",
       "  </tbody>\n",
       "</table>\n",
       "</div>"
      ],
      "text/plain": [
       "         Indonesia    Malaysia  Philippines   Singapore    Thailand\n",
       "count    61.000000   61.000000    61.000000   61.000000   61.000000\n",
       "mean    354.395324  117.739035   136.910631  113.142477  176.378182\n",
       "std     289.575343  105.763931    95.485567  108.471487  140.975669\n",
       "min      52.777608   10.075038    31.344442    5.942828   15.908745\n",
       "25%     108.051164   27.721992    66.866840   22.551426   46.091900\n",
       "50%     269.915110   74.627439   106.641788   70.864053  144.045063\n",
       "75%     497.631792  186.898482   179.365920  177.993672  288.645290\n",
       "max    1049.318967  364.693381   396.224788  348.909587  460.750264"
      ]
     },
     "execution_count": 41,
     "metadata": {},
     "output_type": "execute_result"
    }
   ],
   "source": [
    "gdp_billion.describe()"
   ]
  },
  {
   "cell_type": "markdown",
   "id": "c3df5069-6725-46d1-9129-4acf7667a0f9",
   "metadata": {},
   "source": [
    "Indonesia menjadi negara dengan kue ekonomi terbesar di antara negara ASEAN-5 lainnya. Dengan nilai GDP tertinggi sebebsar US$ 1.049,31 Miliar."
   ]
  },
  {
   "cell_type": "code",
   "execution_count": 42,
   "id": "067bfc6b-855c-4878-92f9-271a1083505c",
   "metadata": {},
   "outputs": [
    {
     "name": "stdout",
     "output_type": "stream",
     "text": [
      "Malaysia = 2.88x Indonesian GDP\n",
      "Singapore = 3.01x Indonesian GDP\n",
      "Thailand = 2.28x Indonesian GDP\n",
      "Philippines = 2.65x Indonesian GDP\n"
     ]
    }
   ],
   "source": [
    "# Indonesia vs The rest ASEAN-5\n",
    "rest = [\"Malaysia\", \"Singapore\", \"Thailand\", \"Philippines\"]\n",
    "\n",
    "for i in rest:\n",
    "    print(f'{i} = {round(gdp_billion[\"Indonesia\"].max()/gdp_billion[i].max(), 2)}x Indonesian GDP')"
   ]
  },
  {
   "cell_type": "markdown",
   "id": "4eb048b6-dc42-489c-a1ec-c33c223d43d0",
   "metadata": {
    "tags": []
   },
   "source": [
    "## Visualisasi Data"
   ]
  },
  {
   "cell_type": "markdown",
   "id": "60e30aee-6fd6-4166-a4bc-a7e0419615fb",
   "metadata": {},
   "source": [
    "### GDP dalam level"
   ]
  },
  {
   "cell_type": "code",
   "execution_count": 43,
   "id": "92fb558d-3c23-41c5-8336-fdec3ed6a6d6",
   "metadata": {},
   "outputs": [
    {
     "data": {
      "image/png": "[encoded data removed]",
      "text/plain": [
       "<Figure size 720x576 with 1 Axes>"
      ]
     },
     "metadata": {
      "needs_background": "light"
     },
     "output_type": "display_data"
    }
   ],
   "source": [
    "fig, ax = plt.subplots(figsize=(10,8))\n",
    "\n",
    "ax.plot(gdp_billion)\n",
    "\n",
    "ax.set_ylabel(\"GDP konstan (dalam Miliar US$)\")\n",
    "ax.set_xlabel(\"Tahun\")\n",
    "ax.legend(gdp_billion.columns)\n",
    "\n",
    "#Krisis ekonomi Asia 1998, pandemi Covid-19\n",
    "ax.axvspan(xmin = 1998, xmax = 1998+1, color='grey')\n",
    "ax.axvspan(xmin = 2020, xmax = 2020+1, color='grey')\n",
    "\n",
    "ax.set_title(\"GDP konstan Negara ASEAN-5 1961 - 2020\")\n",
    "\n",
    "fig.savefig('pictures/constant-gdp.png')\n",
    "!"
   ]
  },
  {
   "cell_type": "markdown",
   "id": "e33f1063-9aca-4c3f-88ea-dd6ac92ef41b",
   "metadata": {},
   "source": [
    "GDP negara ASEAN-5 mengalami peningkatan sejak tahun 1961. Tampak terjadi pergerakan bersama pada masa-masa tertentu. Semisal krisis ekonomi asia pada tahun 1998, setiap negara ASEAN-5 mengalami penurunan nilai GDP. Hal serupa terjadi pada tahun 2020, yaitu krisis ekonomi akibat pandemi Covid-19"
   ]
  },
  {
   "cell_type": "markdown",
   "id": "6791e9fa-ca22-4e97-802d-4bd87c658b14",
   "metadata": {},
   "source": [
    "### Pertumbuhan Ekonomi"
   ]
  },
  {
   "cell_type": "code",
   "execution_count": 44,
   "id": "0f0224af-c4ed-4c53-8d56-a7e39a2f857c",
   "metadata": {},
   "outputs": [],
   "source": [
    "growth = gdp_billion.pct_change()*100"
   ]
  },
  {
   "cell_type": "code",
   "execution_count": 45,
   "id": "706c1c84-59cd-424b-9edb-18ee2e3069a9",
   "metadata": {},
   "outputs": [
    {
     "data": {
      "image/png": "[encoded data removed]",
      "text/plain": [
       "<Figure size 720x576 with 1 Axes>"
      ]
     },
     "metadata": {
      "needs_background": "light"
     },
     "output_type": "display_data"
    }
   ],
   "source": [
    "fig, ax = plt.subplots(figsize=(10,8))\n",
    "\n",
    "ax.plot(growth)\n",
    "\n",
    "ax.set_ylabel(\"Persen\")\n",
    "ax.set_xlabel(\"Tahun\")\n",
    "ax.legend(growth.columns)\n",
    "\n",
    "#Krisis ekonomi Asia 1998, pandemi Covid-19\n",
    "ax.axvspan(xmin = 1998, xmax = 1998+1, color='grey')\n",
    "ax.axvspan(xmin = 2020, xmax = 2020+1, color='grey')\n",
    "\n",
    "ax.set_title(\"Pertumbuhan Ekonomi Negara ASEAN-5\")\n",
    "\n",
    "fig.savefig('pictures/gdp-growth.png')\n",
    "!"
   ]
  },
  {
   "cell_type": "markdown",
   "id": "a6196a67-b017-42c8-9bb0-1a8ef9def83d",
   "metadata": {},
   "source": [
    "Selain dari dua krisis besar, Krisis ekonomi Asia 1998 dan Pandemi Covid-19, Terdapat beberapa momen di mana ekonomi beberapa negara tertentu mengalami krisis."
   ]
  },
  {
   "cell_type": "code",
   "execution_count": 46,
   "id": "245b1b48-3e75-42f5-a72a-77c17c331571",
   "metadata": {},
   "outputs": [
    {
     "data": {
      "text/html": [
       "<div>\n",
       "<style scoped>\n",
       "    .dataframe tbody tr th:only-of-type {\n",
       "        vertical-align: middle;\n",
       "    }\n",
       "\n",
       "    .dataframe tbody tr th {\n",
       "        vertical-align: top;\n",
       "    }\n",
       "\n",
       "    .dataframe thead th {\n",
       "        text-align: right;\n",
       "    }\n",
       "</style>\n",
       "<table border=\"1\" class=\"dataframe\">\n",
       "  <thead>\n",
       "    <tr style=\"text-align: right;\">\n",
       "      <th></th>\n",
       "      <th>Indonesia</th>\n",
       "      <th>Malaysia</th>\n",
       "      <th>Philippines</th>\n",
       "      <th>Singapore</th>\n",
       "      <th>Thailand</th>\n",
       "    </tr>\n",
       "  </thead>\n",
       "  <tbody>\n",
       "    <tr>\n",
       "      <th>count</th>\n",
       "      <td>60.000000</td>\n",
       "      <td>60.000000</td>\n",
       "      <td>60.000000</td>\n",
       "      <td>60.000000</td>\n",
       "      <td>60.000000</td>\n",
       "    </tr>\n",
       "    <tr>\n",
       "      <th>mean</th>\n",
       "      <td>5.131592</td>\n",
       "      <td>6.124539</td>\n",
       "      <td>4.200713</td>\n",
       "      <td>7.017688</td>\n",
       "      <td>5.732013</td>\n",
       "    </tr>\n",
       "    <tr>\n",
       "      <th>std</th>\n",
       "      <td>3.434743</td>\n",
       "      <td>3.620158</td>\n",
       "      <td>3.372412</td>\n",
       "      <td>4.457693</td>\n",
       "      <td>3.894371</td>\n",
       "    </tr>\n",
       "    <tr>\n",
       "      <th>min</th>\n",
       "      <td>-13.126725</td>\n",
       "      <td>-7.359415</td>\n",
       "      <td>-9.573030</td>\n",
       "      <td>-5.391021</td>\n",
       "      <td>-7.634035</td>\n",
       "    </tr>\n",
       "    <tr>\n",
       "      <th>25%</th>\n",
       "      <td>4.682127</td>\n",
       "      <td>5.166832</td>\n",
       "      <td>3.488565</td>\n",
       "      <td>4.341629</td>\n",
       "      <td>4.256277</td>\n",
       "    </tr>\n",
       "    <tr>\n",
       "      <th>50%</th>\n",
       "      <td>5.716609</td>\n",
       "      <td>6.359908</td>\n",
       "      <td>5.062535</td>\n",
       "      <td>7.512713</td>\n",
       "      <td>5.618073</td>\n",
       "    </tr>\n",
       "    <tr>\n",
       "      <th>75%</th>\n",
       "      <td>6.987645</td>\n",
       "      <td>8.453714</td>\n",
       "      <td>6.134874</td>\n",
       "      <td>10.124566</td>\n",
       "      <td>8.120804</td>\n",
       "    </tr>\n",
       "    <tr>\n",
       "      <th>max</th>\n",
       "      <td>10.915179</td>\n",
       "      <td>11.701082</td>\n",
       "      <td>8.782009</td>\n",
       "      <td>14.525639</td>\n",
       "      <td>13.288114</td>\n",
       "    </tr>\n",
       "  </tbody>\n",
       "</table>\n",
       "</div>"
      ],
      "text/plain": [
       "       Indonesia   Malaysia  Philippines  Singapore   Thailand\n",
       "count  60.000000  60.000000    60.000000  60.000000  60.000000\n",
       "mean    5.131592   6.124539     4.200713   7.017688   5.732013\n",
       "std     3.434743   3.620158     3.372412   4.457693   3.894371\n",
       "min   -13.126725  -7.359415    -9.573030  -5.391021  -7.634035\n",
       "25%     4.682127   5.166832     3.488565   4.341629   4.256277\n",
       "50%     5.716609   6.359908     5.062535   7.512713   5.618073\n",
       "75%     6.987645   8.453714     6.134874  10.124566   8.120804\n",
       "max    10.915179  11.701082     8.782009  14.525639  13.288114"
      ]
     },
     "execution_count": 46,
     "metadata": {},
     "output_type": "execute_result"
    }
   ],
   "source": [
    "growth.describe()"
   ]
  },
  {
   "cell_type": "code",
   "execution_count": 47,
   "id": "a7064b19-93c4-4c76-ba86-b6fe87087043",
   "metadata": {},
   "outputs": [
    {
     "data": {
      "image/png": "[encoded data removed]",
      "text/plain": [
       "<Figure size 1440x720 with 1 Axes>"
      ]
     },
     "metadata": {
      "needs_background": "light"
     },
     "output_type": "display_data"
    }
   ],
   "source": [
    "fig, ax = plt.subplots(figsize = (20, 10))\n",
    "\n",
    "\n",
    "ax.boxplot(growth.dropna())\n",
    "ax.set_xticklabels(growth.columns)\n",
    "\n",
    "fig.savefig('pictures/growth-boxplot.png')\n",
    "!"
   ]
  },
  {
   "cell_type": "markdown",
   "id": "9cf68a5c-0742-4c48-b96f-6c1f213ffce6",
   "metadata": {},
   "source": [
    "Penjelasan boxplot\n",
    "* Titik-titik yang berada diluar ekor boxplot menunjukkan data *outlier*.\n",
    "* Garis horizontal berwarna kuning menunjukkan nilai tengah\n",
    "* sisi box atas menunjukkan kuartil 3\n",
    "* sisi box bawah menunjukkan kuartil 1\n",
    "* Ekor atas menunjukkan nilai maksimum kuartil, kuartil 3 + 1.5*(kuartil 3 - kuartil 1)\n",
    "* Ekor atas menunjukkan nilai minimum kuartil, kuartil 1 - 1.5*(kuartil 3 - kuartil 1)"
   ]
  },
  {
   "cell_type": "code",
   "execution_count": 48,
   "id": "7e2b3595-1461-4e03-bacb-46fba472a488",
   "metadata": {},
   "outputs": [
    {
     "name": "stdout",
     "output_type": "stream",
     "text": [
      "Interquartile Indonesia : 2.3055182199148874\n",
      "Interquartile Malaysia : 3.286881332793058\n",
      "Interquartile Singapore : 5.782937206263851\n",
      "Interquartile Thailand : 3.8645266707011627\n",
      "Interquartile Philippines : 2.6463085920220957\n"
     ]
    }
   ],
   "source": [
    "ASEAN_5 = [\"Indonesia\", \"Malaysia\", \"Singapore\", \"Thailand\", \"Philippines\"]\n",
    "\n",
    "for i in ASEAN_5:\n",
    "    print(f'Interquartile {i} : {growth[i].quantile(q = 0.75) - growth[i].quantile(q = 0.25) }')"
   ]
  },
  {
   "cell_type": "markdown",
   "id": "3dfddd6c-16e1-4c5a-9b19-00fb2632b104",
   "metadata": {},
   "source": [
    "* Indonesia menjadi negara yang mendapatkan pengalaman terburuk dari krisis ekonomi dengan *outlier* negatif yang paling jauh dibanding negara lainnya. Namun, fluktuasi pertumbuhan relatif lebih rendah.\n",
    "* Singapura menjadi negara yang kebal terhadap krisis ekonomi sekaligus menjadi negara yang mengalami pertumbuhan yang relatif lebih fluktuatif."
   ]
  },
  {
   "cell_type": "markdown",
   "id": "5558e570-143a-4e80-ab8f-73417baa2b21",
   "metadata": {},
   "source": [
    "**Indonesia**: Rentan tetapi stabil secara keseluruhan \\\n",
    "**Singapura**: Kebal tetapi tidak stabil secara keseluruhan"
   ]
  },
  {
   "cell_type": "markdown",
   "id": "0bd05405-2c61-4d74-a815-d5758fa8514b",
   "metadata": {},
   "source": [
    "### Korelasi Pertumbuhan Ekonomi"
   ]
  },
  {
   "cell_type": "code",
   "execution_count": 49,
   "id": "b1b1ea07-216e-4c31-8ed4-7766e72d6cf5",
   "metadata": {},
   "outputs": [],
   "source": [
    "corr = growth.corr()\n",
    "low_mat = np.triu(corr)"
   ]
  },
  {
   "cell_type": "code",
   "execution_count": 51,
   "id": "ff69c155-16ad-4d69-a5f9-f590c0c1b9bf",
   "metadata": {},
   "outputs": [
    {
     "data": {
      "image/png": "[encoded data removed]",
      "text/plain": [
       "<Figure size 576x576 with 2 Axes>"
      ]
     },
     "metadata": {
      "needs_background": "light"
     },
     "output_type": "display_data"
    }
   ],
   "source": [
    "fig, ax = plt.subplots(figsize = (8, 8))\n",
    "\n",
    "sns.heatmap(corr, annot=True, mask=low_mat)\n",
    "\n",
    "fig.savefig('pictures/growth-heatmap.png')"
   ]
  },
  {
   "cell_type": "markdown",
   "id": "d318ed0e-5bf8-4f61-9cab-6796219831a0",
   "metadata": {},
   "source": [
    "Secara keseluruhan, negara ASEAN-5 mengalami korelasi positif. Artinya, terdapat hubungan yang kuat antara pertumbuhan ekonomi suatu negara dan negara lainnya."
   ]
  },
  {
   "cell_type": "markdown",
   "id": "2908dfde-0023-449d-acab-419437d9c138",
   "metadata": {},
   "source": [
    "* Korelasi tertinggi dialami oleh pasangan negara Malaysia-Singapura dengan nilai korelasi sebesar 0,73\n",
    "* Korelasi terendah dialami oleh pasangan negara Indonesia-Filipina dengan nilai korelasi sebesar 0,37"
   ]
  },
  {
   "cell_type": "code",
   "execution_count": null,
   "id": "10ee0901-8c51-4c50-9f0e-cfa3fb704bbf",
   "metadata": {},
   "outputs": [],
   "source": []
  },
  {
   "cell_type": "markdown",
   "id": "705bc9a1-cd63-407f-a469-b1cbbf650c35",
   "metadata": {},
   "source": [
    "# To Be Continued...."
   ]
  },
  {
   "cell_type": "code",
   "execution_count": null,
   "id": "ebfdce07-657f-4775-b4cf-48980a502aa3",
   "metadata": {},
   "outputs": [],
   "source": []
  },
  {
   "cell_type": "code",
   "execution_count": null,
   "id": "00392c67-4fe0-430c-8364-a0bcd11b067a",
   "metadata": {},
   "outputs": [],
   "source": []
  },
  {
   "cell_type": "code",
   "execution_count": null,
   "id": "0ea7deaf-c9bf-4e8a-838e-d362f5de4751",
   "metadata": {},
   "outputs": [],
   "source": []
  },
  {
   "cell_type": "code",
   "execution_count": null,
   "id": "85bd572b-149d-4480-b95b-f93e3aba4da7",
   "metadata": {},
   "outputs": [],
   "source": []
  }
 ],
 "metadata": {
  "kernelspec": {
   "display_name": "Python 3",
   "language": "python",
   "name": "python3"
  },
  "language_info": {
   "codemirror_mode": {
    "name": "ipython",
    "version": 3
   },
   "file_extension": ".py",
   "mimetype": "text/x-python",
   "name": "python",
   "nbconvert_exporter": "python",
   "pygments_lexer": "ipython3",
   "version": "3.9.1"
  }
 },
 "nbformat": 4,
 "nbformat_minor": 5
}
